{
 "cells": [
  {
   "cell_type": "markdown",
   "metadata": {},
   "source": [
    "#### Setup MongoDB credentials for administrator"
   ]
  },
  {
   "cell_type": "code",
   "execution_count": null,
   "metadata": {},
   "outputs": [],
   "source": [
    "username = \"root\"\n",
    "password = \"example\"\n",
    "host = \"localhost\"\n",
    "\n",
    "database_name = \"elections\"\n",
    "collection_name = \"general_elections_2022\""
   ]
  },
  {
   "cell_type": "markdown",
   "metadata": {},
   "source": [
    "#### Create connection string of MongoDB"
   ]
  },
  {
   "cell_type": "code",
   "execution_count": null,
   "metadata": {},
   "outputs": [],
   "source": [
    "from utils import create_connection_string\n",
    "\n",
    "data_lake_connection_string = create_connection_string({\n",
    "    'username': username,\n",
    "    'password': password,\n",
    "    'host': host,\n",
    "    'port': 80,\n",
    "    'collection': None,\n",
    "    'database': None\n",
    "})\n",
    "\n",
    "data_warehouse_connection_string = create_connection_string({\n",
    "    'username': username,\n",
    "    'password': password,\n",
    "    'host': host,\n",
    "    'port': 443,\n",
    "    'collection': None,\n",
    "    'database': None\n",
    "})"
   ]
  },
  {
   "cell_type": "markdown",
   "metadata": {},
   "source": [
    "#### Create database, collection and users if does not exists"
   ]
  },
  {
   "cell_type": "code",
   "execution_count": null,
   "metadata": {},
   "outputs": [],
   "source": [
    "from utils import (\n",
    "  create_mongodb_database_and_collection,\n",
    "  create_user_owner_for_database\n",
    ")\n",
    "\n",
    "create_mongodb_database_and_collection(data_lake_connection_string, database_name, collection_name)\n",
    "create_mongodb_database_and_collection(data_warehouse_connection_string, database_name, collection_name)\n",
    "\n",
    "create_user_owner_for_database(data_lake_connection_string, database_name, \"dba\", \"pandas\")\n",
    "create_user_owner_for_database(data_warehouse_connection_string, database_name, \"dba\", \"pandas\")\n",
    "\n",
    "print(\" 🛢️ Criando Usuários e Collections...\")"
   ]
  },
  {
   "cell_type": "markdown",
   "metadata": {},
   "source": [
    "#### Create folder and check if extraction has already happened"
   ]
  },
  {
   "cell_type": "code",
   "execution_count": null,
   "metadata": {},
   "outputs": [],
   "source": [
    "from utils import (\n",
    "  get_path_for_csv_file,\n",
    "  check_if_extraction_folder_is_created\n",
    ")\n",
    "from utils import EXTRACTION_FOLDER_PATH\n",
    "\n",
    "print(\" 📂 Criando pasta...\")\n",
    "\n",
    "csv_file_path = get_path_for_csv_file()\n",
    "check_if_extraction_folder_is_created(EXTRACTION_FOLDER_PATH)"
   ]
  },
  {
   "cell_type": "markdown",
   "metadata": {},
   "source": [
    "#### Download zip file"
   ]
  },
  {
   "cell_type": "code",
   "execution_count": null,
   "metadata": {},
   "outputs": [],
   "source": [
    "from utils import download_csv_if_not_exists\n",
    "\n",
    "print(\" ⌛ Baixando arquivo .zip e extraindo .csv...\")\n",
    "\n",
    "download_csv_if_not_exists(csv_file_path)"
   ]
  },
  {
   "cell_type": "markdown",
   "metadata": {},
   "source": [
    "#### Setup credentials to load data"
   ]
  },
  {
   "cell_type": "code",
   "execution_count": null,
   "metadata": {},
   "outputs": [],
   "source": [
    "from utils import create_connection_string\n",
    "\n",
    "host = \"0.0.0.0\"\n",
    "port = 80\n",
    "username = 'dba'\n",
    "password = 'pandas'\n",
    "database = 'elections'\n",
    "collection = 'general_elections_2022'\n",
    "\n",
    "uri = create_connection_string({\n",
    "  'host': host,\n",
    "  'port': port,\n",
    "  'username': username,\n",
    "  'password': password,\n",
    "  'database': database,\n",
    "  'collection': collection\n",
    "})"
   ]
  },
  {
   "cell_type": "markdown",
   "metadata": {},
   "source": [
    "#### Read csv file"
   ]
  },
  {
   "cell_type": "code",
   "execution_count": null,
   "metadata": {},
   "outputs": [],
   "source": [
    "from pyspark.sql import SparkSession\n",
    "from pyspark.sql.dataframe import DataFrame\n",
    "\n",
    "spark_session = SparkSession.builder.appName('spark').config(\"spark.mongodb.output.uri\", uri).config(\"spark.jars.packages\", \"org.mongodb.spark:mongo-spark-connector_2.12:3.0.0\").getOrCreate()\n",
    "\n",
    "df: DataFrame = spark_session.read.options(header=\"true\", delimiter=\";\", encoding=\"ISO-8859-1\", inferSchema=True).csv(csv_file_path)"
   ]
  },
  {
   "cell_type": "markdown",
   "metadata": {},
   "source": [
    "#### Load into MongoDB the csv data"
   ]
  },
  {
   "cell_type": "code",
   "execution_count": null,
   "metadata": {},
   "outputs": [],
   "source": [
    "print(\" 🖋️ Inserindo dados no MongoDB...\")\n",
    "\n",
    "df.write.format(\"com.mongodb.spark.sql.DefaultSource\").mode(\"append\").save()\n",
    "\n",
    "print(\" ✅ Dados escritos no MongoD!!\")"
   ]
  },
  {
   "cell_type": "markdown",
   "metadata": {},
   "source": [
    "#### Clear"
   ]
  },
  {
   "cell_type": "code",
   "execution_count": null,
   "metadata": {},
   "outputs": [],
   "source": [
    "print(\" 🧹 Limpando...\")\n",
    "\n",
    "spark_session.stop()"
   ]
  }
 ],
 "metadata": {
  "language_info": {
   "name": "python"
  }
 },
 "nbformat": 4,
 "nbformat_minor": 2
}
